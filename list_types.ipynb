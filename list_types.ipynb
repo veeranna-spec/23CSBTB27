{
  "nbformat": 4,
  "nbformat_minor": 0,
  "metadata": {
    "colab": {
      "provenance": [],
      "authorship_tag": "ABX9TyNVkHlSRWDF1jWLs0YbDDRu",
      "include_colab_link": true
    },
    "kernelspec": {
      "name": "python3",
      "display_name": "Python 3"
    },
    "language_info": {
      "name": "python"
    }
  },
  "cells": [
    {
      "cell_type": "markdown",
      "metadata": {
        "id": "view-in-github",
        "colab_type": "text"
      },
      "source": [
        "<a href=\"https://colab.research.google.com/github/veeranna-spec/23CSBTB27/blob/main/list_types.ipynb\" target=\"_parent\"><img src=\"https://colab.research.google.com/assets/colab-badge.svg\" alt=\"Open In Colab\"/></a>"
      ]
    },
    {
      "cell_type": "code",
      "execution_count": null,
      "metadata": {
        "colab": {
          "base_uri": "https://localhost:8080/"
        },
        "id": "228-FMKAkL4e",
        "outputId": "e3055e33-efe7-4e5d-9b75-8de85e2f27ce"
      },
      "outputs": [
        {
          "output_type": "stream",
          "name": "stdout",
          "text": [
            "(1, 5, 2, 6, 7)\n",
            "[3, 6, 1, 8]\n",
            "<class 'tuple'>\n",
            "<class 'list'>\n"
          ]
        }
      ],
      "source": [
        "\n",
        "import numpy as np\n",
        "list =(1,5,2,6,7)\n",
        "list1=[3,6,1,8]\n",
        "print(list)\n",
        "print(list1)\n",
        "print(type(list))\n",
        "print(type(list1))\n"
      ]
    },
    {
      "cell_type": "code",
      "source": [
        "list=[\"Geeks\",\"For\",\"Geeks\"]\n",
        "list2=\"my first lab\"\n",
        "list3=4.5\n",
        "list4=4+6\n",
        "print(list)\n",
        "print(list2)\n",
        "print(type(list3))\n",
        "print(type(list4))\n",
        "print(list3)\n",
        "print(list4)\n",
        "print(list2[0])"
      ],
      "metadata": {
        "colab": {
          "base_uri": "https://localhost:8080/"
        },
        "id": "pMrGzyUXlk37",
        "outputId": "e7a52b5a-f98b-4e1a-90d8-aa035c82b0b9"
      },
      "execution_count": null,
      "outputs": [
        {
          "output_type": "stream",
          "name": "stdout",
          "text": [
            "['Geeks', 'For', 'Geeks']\n",
            "my first lab\n",
            "<class 'float'>\n",
            "<class 'int'>\n",
            "4.5\n",
            "10\n",
            "m\n"
          ]
        }
      ]
    }
  ]
}