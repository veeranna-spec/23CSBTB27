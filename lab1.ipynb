{
  "nbformat": 4,
  "nbformat_minor": 0,
  "metadata": {
    "colab": {
      "provenance": [],
      "authorship_tag": "ABX9TyOQSwPqkYnLSTwodf/D7xZE",
      "include_colab_link": true
    },
    "kernelspec": {
      "name": "python3",
      "display_name": "Python 3"
    },
    "language_info": {
      "name": "python"
    }
  },
  "cells": [
    {
      "cell_type": "markdown",
      "metadata": {
        "id": "view-in-github",
        "colab_type": "text"
      },
      "source": [
        "<a href=\"https://colab.research.google.com/github/veeranna-spec/23CSBTB27/blob/main/lab1.ipynb\" target=\"_parent\"><img src=\"https://colab.research.google.com/assets/colab-badge.svg\" alt=\"Open In Colab\"/></a>"
      ]
    },
    {
      "cell_type": "code",
      "execution_count": 1,
      "metadata": {
        "colab": {
          "base_uri": "https://localhost:8080/"
        },
        "id": "gK__vQgAP5_f",
        "outputId": "5f2f79b6-e235-4e7f-b976-9851393c6edc"
      },
      "outputs": [
        {
          "output_type": "stream",
          "name": "stdout",
          "text": [
            "k\n",
            "ram\n",
            "[7, 9, 10]\n",
            "7\n",
            "a\n"
          ]
        }
      ],
      "source": [
        "import numpy as np\n",
        "A=['k','c','ram',1,[7,9,10]]\n",
        "print(A[0])\n",
        "print(A[2])\n",
        "print(A[4])\n",
        "print(A[4][0])\n",
        "print(A[2][1])"
      ]
    }
  ]
}