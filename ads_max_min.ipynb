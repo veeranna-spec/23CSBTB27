{
  "nbformat": 4,
  "nbformat_minor": 0,
  "metadata": {
    "colab": {
      "provenance": [],
      "authorship_tag": "ABX9TyNrl7oNPw6oT8HOYi7MxK6A",
      "include_colab_link": true
    },
    "kernelspec": {
      "name": "python3",
      "display_name": "Python 3"
    },
    "language_info": {
      "name": "python"
    }
  },
  "cells": [
    {
      "cell_type": "markdown",
      "metadata": {
        "id": "view-in-github",
        "colab_type": "text"
      },
      "source": [
        "<a href=\"https://colab.research.google.com/github/veeranna-spec/23CSBTB27/blob/main/ads_max_min.ipynb\" target=\"_parent\"><img src=\"https://colab.research.google.com/assets/colab-badge.svg\" alt=\"Open In Colab\"/></a>"
      ]
    },
    {
      "cell_type": "code",
      "execution_count": 1,
      "metadata": {
        "colab": {
          "base_uri": "https://localhost:8080/"
        },
        "id": "pAquX-zVQOP_",
        "outputId": "317319bb-96e0-4118-d648-461cf8a6644d"
      },
      "outputs": [
        {
          "output_type": "stream",
          "name": "stdout",
          "text": [
            "-8\n",
            "9\n",
            "8\n",
            "9\n"
          ]
        }
      ],
      "source": [
        "import numpy as np\n",
        "A=[4,-6,3,9,-8,0,1,5]\n",
        "print(min(A))\n",
        "print(max(A))\n",
        "print(abs(min(A)))\n",
        "print(abs(max(A)))"
      ]
    }
  ]
}