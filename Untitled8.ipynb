{
  "nbformat": 4,
  "nbformat_minor": 0,
  "metadata": {
    "colab": {
      "provenance": [],
      "authorship_tag": "ABX9TyOLczZPD8Sq+T0IV8aWDx4H",
      "include_colab_link": true
    },
    "kernelspec": {
      "name": "python3",
      "display_name": "Python 3"
    },
    "language_info": {
      "name": "python"
    }
  },
  "cells": [
    {
      "cell_type": "markdown",
      "metadata": {
        "id": "view-in-github",
        "colab_type": "text"
      },
      "source": [
        "<a href=\"https://colab.research.google.com/github/veeranna-spec/23CSBTB27/blob/main/Untitled8.ipynb\" target=\"_parent\"><img src=\"https://colab.research.google.com/assets/colab-badge.svg\" alt=\"Open In Colab\"/></a>"
      ]
    },
    {
      "cell_type": "code",
      "execution_count": 1,
      "metadata": {
        "colab": {
          "base_uri": "https://localhost:8080/",
          "height": 106
        },
        "id": "CbBazw9XpS_J",
        "outputId": "2b208f32-6c91-4f6d-f76f-3ff70a3a7d1d"
      },
      "outputs": [
        {
          "output_type": "error",
          "ename": "SyntaxError",
          "evalue": "invalid syntax (<ipython-input-1-ebb7287ffc3f>, line 1)",
          "traceback": [
            "\u001b[0;36m  File \u001b[0;32m\"<ipython-input-1-ebb7287ffc3f>\"\u001b[0;36m, line \u001b[0;32m1\u001b[0m\n\u001b[0;31m    rom queue import Queue\u001b[0m\n\u001b[0m        ^\u001b[0m\n\u001b[0;31mSyntaxError\u001b[0m\u001b[0;31m:\u001b[0m invalid syntax\n"
          ]
        }
      ],
      "source": [
        "rom queue import Queue\n",
        "\n",
        "graph = {0: [1, 2, 3],\n",
        "1: [0, 2],\n",
        "2: [1, 3, 5],\n",
        "3: [0, 2, 4],\n",
        "4: [3, 5, 7],\n",
        "5: [2, 4, 6, 7],\n",
        "6: [5, 7],\n",
        "7:[]}\n",
        "print(\"The adjacency List representing the graph is:\")\n",
        "print(graph)\n",
        "\n",
        "def bfs(graph, source):\n",
        "\n",
        "  Q = Queue()\n",
        "  visited_vertices = set()\n",
        "  Q.put(source)\n",
        "  visited_vertices.update({source})\n",
        "  while not Q.empty():\n",
        "\n",
        "    vertex = Q.get()\n",
        "    print(vertex, end=\"-->\")\n",
        "  for u in graph[vertex]:\n",
        "\n",
        "\n",
        "    if u not in visited_vertices:\n",
        "\n",
        "      Q.put(u)\n",
        "      visited_vertices.update({u})\n",
        "print(\"BFS traversal of graph with source 1 is:\")\n",
        "bfs(graph, 1)"
      ]
    },
    {
      "cell_type": "code",
      "source": [
        "graph1 = {\n",
        "'A' : ['B','C','G'],\n",
        "'B' : ['A'],\n",
        "'C' : ['A','D','F',],\n",
        "'D' : ['A','C','E','H'],\n",
        "'E' : ['D','H','F'],\n",
        "'F' : ['C','E'],\n",
        "'G' : ['A','D','H'],\n",
        "'H' : ['D','E','G']\n",
        "}\n",
        "\n",
        "def dfs(graph, node, visited):\n",
        "\n",
        "  if node not in visited:\n",
        "    visited.append(node)\n",
        "    for k in graph[node]:\n",
        "      dfs(graph,k, visited)\n",
        "  return visited\n",
        "\n",
        "visited = dfs(graph1,'B', [])\n",
        "print(visited)"
      ],
      "metadata": {
        "colab": {
          "base_uri": "https://localhost:8080/"
        },
        "id": "l5h3wHIAqIEv",
        "outputId": "a651e3c2-c31b-428c-d1e3-c05193bdc5ae"
      },
      "execution_count": 2,
      "outputs": [
        {
          "output_type": "stream",
          "name": "stdout",
          "text": [
            "['B', 'A', 'C', 'D', 'E', 'H', 'G', 'F']\n"
          ]
        }
      ]
    },
    {
      "cell_type": "code",
      "source": [
        "from typing import DefaultDict\n",
        "from collections import namedtuple,Counter\n",
        "import random\n",
        "import functools\n",
        "\n",
        "class Game:\n",
        "    \"\"\"A game is similar to a problem, but it has a terminal test instead of a goal test, and a\n",
        "    utility for each terminal state.\n",
        "    Create a game subclass and implement actions, result, is terminal, and utility.\n",
        "    you will also need to set the initial attribute to the initial state; this can be done in the\n",
        "    constructor.\"\"\"\n",
        "    def actions(self,state):\n",
        "      \"\"\"Return a collection of the allowable moves from this state .\"\"\"\n",
        "      raise NotImplementedError\n",
        "    def result(self, state , move ):\n",
        "      \"\"\"Return the state that results from making a move from a state .\"\"\"\n",
        "      raise NotImplementedError\n",
        "    def is_terminal (self, state ):\n",
        "      \"\"\"Return True i f this is a final state for the game.\"\"\"\n",
        "      return not self.actions(state)\n",
        "    def utility(self, state , player ):\n",
        "      raise NotImplementedError"
      ],
      "metadata": {
        "id": "FP1--FiMqTe_"
      },
      "execution_count": 6,
      "outputs": []
    },
    {
      "cell_type": "code",
      "source": [
        "def play_game (game , strategies : dict , verbose=False ):\n",
        "  state = game.initial\n",
        "  while not game. is_terminal (state ):\n",
        "    player = state. to_move\n",
        "    move = strategies [player ](game , state)\n",
        "    state = game.result(state , move)\n",
        "  if verbose:\n",
        "    print('Player', player , 'move:', move)\n",
        "    print(state)\n",
        "    return state"
      ],
      "metadata": {
        "id": "MObdD11uqqe3"
      },
      "execution_count": 5,
      "outputs": []
    },
    {
      "cell_type": "code",
      "source": [
        "def minimax_search (game , state ):\n",
        "  player = state. to_move\n",
        "def max_value (state ):\n",
        "  if game.is_terminal (state ):\n",
        "    return game.utility(state , player), None\n",
        "    v, move = --infinity , None\n"
      ],
      "metadata": {
        "id": "JfCp-AOMquCk"
      },
      "execution_count": 4,
      "outputs": []
    }
  ]
}